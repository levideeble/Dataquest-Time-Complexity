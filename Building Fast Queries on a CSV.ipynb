{
 "cells": [
  {
   "cell_type": "markdown",
   "metadata": {},
   "source": [
    "# Building Fast Queries on a CSV\n",
    "\n",
    "In this project, we will look to build a way to answer a few different business questions about the inventory for an online laptop store.\n",
    "\n",
    "## The Dataset\n",
    "\n",
    "We will be using the `laptops.csv` file as our inventory. This CSV file was adapted from the [Laptop Prices dataset on Kaggle](https://www.kaggle.com/ionaskel/laptop-prices), which contains information regarding characteristics and prices for 1300 laptops. In our version of the dataset, the IDs have been changed and the prices have been converted to integers.\n",
    "\n",
    "A description of what each column contains can be found in the link above. Please note that the ID column has been omitted.\n",
    "\n",
    "Let's start explore the data and print the first few rows before we start implementing a way to represent this data as the store inventory.\n",
    "\n",
    "\n",
    "\n"
   ]
  },
  {
   "cell_type": "code",
   "execution_count": 1,
   "metadata": {},
   "outputs": [
    {
     "name": "stdout",
     "output_type": "stream",
     "text": [
      "['Id', 'Company', 'Product', 'TypeName', 'Inches', 'ScreenResolution', 'Cpu', 'Ram', 'Memory', 'Gpu', 'OpSys', 'Weight', 'Price']\n",
      "[['6571244', 'Apple', 'MacBook Pro', 'Ultrabook', '13.3', 'IPS Panel Retina Display 2560x1600', 'Intel Core i5 2.3GHz', '8GB', '128GB SSD', 'Intel Iris Plus Graphics 640', 'macOS', '1.37kg', '1339'], ['7287764', 'Apple', 'Macbook Air', 'Ultrabook', '13.3', '1440x900', 'Intel Core i5 1.8GHz', '8GB', '128GB Flash Storage', 'Intel HD Graphics 6000', 'macOS', '1.34kg', '898'], ['3362737', 'HP', '250 G6', 'Notebook', '15.6', 'Full HD 1920x1080', 'Intel Core i5 7200U 2.5GHz', '8GB', '256GB SSD', 'Intel HD Graphics 620', 'No OS', '1.86kg', '575'], ['9722156', 'Apple', 'MacBook Pro', 'Ultrabook', '15.4', 'IPS Panel Retina Display 2880x1800', 'Intel Core i7 2.7GHz', '16GB', '512GB SSD', 'AMD Radeon Pro 455', 'macOS', '1.83kg', '2537'], ['8550527', 'Apple', 'MacBook Pro', 'Ultrabook', '13.3', 'IPS Panel Retina Display 2560x1600', 'Intel Core i5 3.1GHz', '8GB', '256GB SSD', 'Intel Iris Plus Graphics 650', 'macOS', '1.37kg', '1803']]\n"
     ]
    }
   ],
   "source": [
    "# Read in the CSV file and print the first few rows.\n",
    "import csv\n",
    "\n",
    "with open('laptops.csv', mode='r') as file:\n",
    "    rows = list(csv.reader(file))\n",
    "    header = rows[0]\n",
    "    rows = rows[1:]\n",
    "\n",
    "print(header)\n",
    "print(rows[:5])\n"
   ]
  },
  {
   "cell_type": "markdown",
   "metadata": {},
   "source": [
    "## Inventory Class\n",
    "\n",
    "One way to approach our project is to create a class that represents our inventory. We can then create methods within the class that will implement the queries that we want to answer. We can also preprocess the data to make those queries run faster.\n",
    "\n",
    "Here are a few examples of queries that we will want to answer:\n",
    "\n",
    "\n",
    "* Given a laptop id, find the corresponding data.\n",
    "* Given an amount of money, find whether there are two laptops whose total price is that given amount.\n",
    "* Identify all laptops whose price falls within a given budget.\n",
    "\n",
    "Let's start by implementing the constructor. It will take the name of the CSV file as argument and then read the rows contained within it."
   ]
  },
  {
   "cell_type": "code",
   "execution_count": 2,
   "metadata": {},
   "outputs": [
    {
     "name": "stdout",
     "output_type": "stream",
     "text": [
      "['Id', 'Company', 'Product', 'TypeName', 'Inches', 'ScreenResolution', 'Cpu', 'Ram', 'Memory', 'Gpu', 'OpSys', 'Weight', 'Price']\n",
      "1303\n"
     ]
    }
   ],
   "source": [
    "# Create an Inventory class and define the constructor\n",
    "class Inventory():\n",
    "    \n",
    "    def __init__(self, csv_filename):\n",
    "        with open('laptops.csv', mode='r') as file:\n",
    "            rows = list(csv.reader(file))\n",
    "            self.header = rows[0]\n",
    "            self.rows = rows[1:]\n",
    "            for row in self.rows:\n",
    "                row[-1] = int(row[-1])\n",
    "                \n",
    "test = Inventory('laptops.csv')\n",
    "print(test.header)\n",
    "print(len(test.rows))"
   ]
  },
  {
   "cell_type": "markdown",
   "metadata": {},
   "source": [
    "We can see that our `Inventory` class and constructor work as intended. We can also see that our dataset countains 1303 laptops.\n",
    "\n",
    "## Finding a Laptop From the ID\n",
    "\n",
    "The first improvement to our `Inventory` class that we will implement is a way to look up a laptop from a given identifier. In this way, when a customer comes to our store with a purchase slip, we can quickly identify the laptop to which it corresponds.\n",
    "\n",
    "For this, we will write a function named `get_laptop_from_id()`. This function will take as argument the identifier of the laptop and return the full row of the laptop with that ID."
   ]
  },
  {
   "cell_type": "code",
   "execution_count": 3,
   "metadata": {},
   "outputs": [
    {
     "name": "stdout",
     "output_type": "stream",
     "text": [
      "['3362737', 'HP', '250 G6', 'Notebook', '15.6', 'Full HD 1920x1080', 'Intel Core i5 7200U 2.5GHz', '8GB', '256GB SSD', 'Intel HD Graphics 620', 'No OS', '1.86kg', 575]\n",
      "None\n"
     ]
    }
   ],
   "source": [
    "# Write a method that looks up a laptop using the ID.\n",
    "class Inventory():\n",
    "    \n",
    "    def __init__(self, csv_filename):\n",
    "        with open('laptops.csv', mode='r') as file:\n",
    "            rows = list(csv.reader(file))\n",
    "            self.header = rows[0]\n",
    "            self.rows = rows[1:]\n",
    "            for row in self.rows:\n",
    "                row[-1] = int(row[-1])\n",
    "                \n",
    "    def get_laptop_from_id(self, laptop_id):\n",
    "        for row in self.rows:\n",
    "            if row[0] == laptop_id:\n",
    "                return row\n",
    "        return None\n",
    "\n",
    "\n",
    "test = Inventory('laptops.csv')\n",
    "print(test.get_laptop_from_id('3362737'))\n",
    "print(test.get_laptop_from_id('3362736'))"
   ]
  },
  {
   "cell_type": "markdown",
   "metadata": {},
   "source": [
    "## Improving ID Lookups\n",
    "\n",
    "The algorithm above requires us to look at every single row to find the one we are looking for (or decide that such a row does not exist). This Algorithm has a time complexity of O(R), where R is the number of rows.\n",
    "\n",
    "Lets improve on this algorithm by preprocessing the data into a dictionary. This will let us look up the IDs in constant time and return the row as the key's value.\n",
    "As a trade off, this will increase the algorithm's space complexity.\n"
   ]
  },
  {
   "cell_type": "code",
   "execution_count": 4,
   "metadata": {},
   "outputs": [
    {
     "name": "stdout",
     "output_type": "stream",
     "text": [
      "['3362737', 'HP', '250 G6', 'Notebook', '15.6', 'Full HD 1920x1080', 'Intel Core i5 7200U 2.5GHz', '8GB', '256GB SSD', 'Intel HD Graphics 620', 'No OS', '1.86kg', 575]\n",
      "None\n"
     ]
    }
   ],
   "source": [
    "# Improve the get_laptop_from_id() method by preprocessing the data into a dictionary.\n",
    "class Inventory():\n",
    "    \n",
    "    def __init__(self, csv_filename):\n",
    "        with open('laptops.csv', mode='r') as file:\n",
    "            rows = list(csv.reader(file))\n",
    "            self.header = rows[0]\n",
    "            self.rows = rows[1:]\n",
    "            for row in self.rows:\n",
    "                row[-1] = int(row[-1])\n",
    "            self.id_to_row = {}\n",
    "            for row in self.rows:\n",
    "                self.id_to_row[row[0]] = row\n",
    "            \n",
    "    def get_laptop_from_id(self, laptop_id):\n",
    "        for row in self.rows:\n",
    "            if row[0] == laptop_id:\n",
    "                return row\n",
    "        return None\n",
    "    \n",
    "    # Improved algorithm that uses a dictionary to allow constant-time lookups.\n",
    "    def get_laptop_from_id_fast(self, laptop_id):\n",
    "        if laptop_id in self.id_to_row:\n",
    "            return self.id_to_row[laptop_id]\n",
    "        return None\n",
    "    \n",
    "test = Inventory('laptops.csv')\n",
    "print(test.get_laptop_from_id_fast('3362737'))\n",
    "print(test.get_laptop_from_id_fast('3362736'))"
   ]
  },
  {
   "cell_type": "markdown",
   "metadata": {},
   "source": [
    "## Comparing the Performance\n",
    "\n",
    "While the orginial `get_laptop_from_id()` method had a time complexity of O(R), where R is the number of rows, the new implementation has a time complexity of O(1).\n",
    "It does so by using more memory to store the `self.id_to_row` dictionary and using a bit more time to create an instance.\n",
    "\n",
    "Let's experiment to compare the performance of the two methods."
   ]
  },
  {
   "cell_type": "code",
   "execution_count": 5,
   "metadata": {},
   "outputs": [
    {
     "name": "stdout",
     "output_type": "stream",
     "text": [
      "8.893755435943604\n",
      "0.04534649848937988\n"
     ]
    }
   ],
   "source": [
    "import time\n",
    "import random\n",
    "\n",
    "# Generate 10,000 random laptop IDs.\n",
    "ids = str([random.randint(1000000, 9999999) for _ in range(10000)])\n",
    "\n",
    "test = Inventory('laptops.csv')\n",
    "\n",
    "# Calculate the total runtime to lookup all IDs using the get_laptop_from_id() method.\n",
    "total_time_no_dict = 0\n",
    "for id in ids:\n",
    "    start = time.time()\n",
    "    test.get_laptop_from_id(id)\n",
    "    end = time.time()\n",
    "    total_time_no_dict += end - start\n",
    "    \n",
    "# Calculate the total runtime to lookup all IDs using the get_laptop_from_id_fast() method.\n",
    "total_time_dict = 0\n",
    "for id in ids:\n",
    "    start = time.time()\n",
    "    test.get_laptop_from_id_fast(id)\n",
    "    end = time.time()\n",
    "    total_time_dict += end - start\n",
    "    \n",
    "print(total_time_no_dict)\n",
    "print(total_time_dict)"
   ]
  },
  {
   "cell_type": "markdown",
   "metadata": {},
   "source": [
    "We can see here that using the `get_laptop_from_id_fast` method makes a huge difference in runtime when we need to run a lot of queries.\n",
    "\n",
    "## Two Laptop Promotion\n",
    "\n",
    "Sometimes, the store offers a promotion where we give a gift card. A customer can use to gift card to buy up to two laptops and any leftover credit is forfeited.\n",
    "\n",
    "In order to be fair to our customers, we must ensure that it is always possible to use all of the credit whenever the promotion is running. This means that there needs to be a single laptop that costs the full amount or two laptops that total the full amount when paired.\n",
    "\n",
    "Let's write a function that, given a dollar amount, checks whether it is possible to spend precisely that amount by purchasing up to two laptops.\n"
   ]
  },
  {
   "cell_type": "code",
   "execution_count": 6,
   "metadata": {
    "scrolled": true
   },
   "outputs": [
    {
     "name": "stdout",
     "output_type": "stream",
     "text": [
      "True\n",
      "False\n"
     ]
    }
   ],
   "source": [
    "class Inventory():\n",
    "    \n",
    "    def __init__(self, csv_filename):\n",
    "        with open('laptops.csv', mode='r') as file:\n",
    "            rows = list(csv.reader(file))\n",
    "            self.header = rows[0]\n",
    "            self.rows = rows[1:]\n",
    "            for row in self.rows:\n",
    "                row[-1] = int(row[-1])\n",
    "            self.id_to_row = {}\n",
    "            for row in self.rows:\n",
    "                self.id_to_row[row[0]] = row\n",
    "            \n",
    "    def get_laptop_from_id(self, laptop_id):\n",
    "        for row in self.rows:\n",
    "            if row[0] == laptop_id:\n",
    "                return row\n",
    "        return None\n",
    "    \n",
    "    def get_laptop_from_id_fast(self, laptop_id):\n",
    "        if laptop_id in self.id_to_row:\n",
    "            return self.id_to_row[laptop_id]\n",
    "        return None\n",
    "    \n",
    "    # A method that checks whether a single laptop or a combination of two laptops totals a certain cost.\n",
    "    def check_promotion_dollars(self, dollars):\n",
    "        for row in self.rows:\n",
    "            if row[-1] == dollars:\n",
    "                return True\n",
    "        for row_1 in self.rows:\n",
    "            for row_2 in self.rows:\n",
    "                if row_1[-1] + row_2[-1] == dollars:\n",
    "                    return True\n",
    "        return False\n",
    "\n",
    "test = Inventory('laptops.csv')\n",
    "print(test.check_promotion_dollars(1000))\n",
    "print(test.check_promotion_dollars(442))"
   ]
  },
  {
   "cell_type": "markdown",
   "metadata": {},
   "source": [
    "## Optimising Laptop Promotion\n",
    "\n",
    "The alogorithm above has a time complexity of O(R^2), where R is the number of rows.\n",
    "As before, we can optimise the algorithm by preprocessing the data. Here we can use a set as we only need the laptop prices. This will allow us to peform our queries in constant time."
   ]
  },
  {
   "cell_type": "code",
   "execution_count": 7,
   "metadata": {},
   "outputs": [
    {
     "name": "stdout",
     "output_type": "stream",
     "text": [
      "True\n",
      "False\n"
     ]
    }
   ],
   "source": [
    "# Preprocess the data as a set.\n",
    "class Inventory():\n",
    "    \n",
    "    def __init__(self, csv_filename):\n",
    "        with open('laptops.csv', mode='r') as file:\n",
    "            rows = list(csv.reader(file))\n",
    "            self.header = rows[0]\n",
    "            self.rows = rows[1:]\n",
    "            for row in self.rows:\n",
    "                row[-1] = int(row[-1])\n",
    "            self.id_to_row = {}\n",
    "            for row in self.rows:\n",
    "                self.id_to_row[row[0]] = row\n",
    "            self.prices = set()\n",
    "            for row in self.rows:\n",
    "                self.prices.add(row[-1])\n",
    "                \n",
    "    def get_laptop_from_id(self, laptop_id):\n",
    "        for row in self.rows:\n",
    "            if row[0] == laptop_id:\n",
    "                return row\n",
    "        return None\n",
    "    \n",
    "    def get_laptop_from_id_fast(self, laptop_id):\n",
    "        if laptop_id in self.id_to_row:\n",
    "            return self.id_to_row[laptop_id]\n",
    "        return None\n",
    "    \n",
    "    def check_promotion_dollars(self, dollars):\n",
    "        for row in self.rows:\n",
    "            if row[-1] == dollars:\n",
    "                return True\n",
    "        for row_1 in self.rows:\n",
    "            for row_2 in self.rows:\n",
    "                if row_1[-1] + row_2[-1] == dollars:\n",
    "                    return True\n",
    "        return False\n",
    "    \n",
    "    # An improved method that allows us to lookup in constant time using a set.\n",
    "    def check_promotion_dollars_fast(self, dollars):\n",
    "        if dollars in self.prices:\n",
    "            return True\n",
    "        for row in self.rows:\n",
    "            if dollars - row[-1] in self.prices:\n",
    "                return True\n",
    "        return False\n",
    "    \n",
    "test = Inventory('laptops.csv')\n",
    "print(test.check_promotion_dollars_fast(1000))\n",
    "print(test.check_promotion_dollars_fast(442))"
   ]
  },
  {
   "cell_type": "markdown",
   "metadata": {},
   "source": [
    "## Comparing Promotion Funtions\n",
    "\n",
    "Let's compare the performance of the last two funtions that we wrote."
   ]
  },
  {
   "cell_type": "code",
   "execution_count": 8,
   "metadata": {},
   "outputs": [
    {
     "name": "stdout",
     "output_type": "stream",
     "text": [
      "2.0857114791870117\n",
      "0.0015993118286132812\n"
     ]
    }
   ],
   "source": [
    "# Generate a list of random target prices\n",
    "prices = [random.randint(100, 5000) for _ in range(100)]\n",
    "\n",
    "test = Inventory('laptops.csv')\n",
    "\n",
    "# Calculate the total runtime to query all target prices using the original check_promotion_dollars() funtion.\n",
    "total_time_no_set = 0\n",
    "for price in prices:\n",
    "    start = time.time()\n",
    "    test.check_promotion_dollars(price)\n",
    "    end = time.time()\n",
    "    total_time_no_set += end - start\n",
    "    \n",
    "# Calculate the total runtime to query all target prices using the improved check_promotion_dollars_fast() funtion.\n",
    "total_time_set = 0\n",
    "for price in prices:\n",
    "    start = time.time()\n",
    "    test.check_promotion_dollars_fast(price)\n",
    "    end = time.time()\n",
    "    total_time_set += end - start\n",
    "    \n",
    "print(total_time_no_set)\n",
    "print(total_time_set)"
   ]
  },
  {
   "cell_type": "markdown",
   "metadata": {},
   "source": [
    "As before, we can see that preprocessing data into a more appropriate datatype for lookups can have a huge impact on runtimes when a large number of queries are needed.\n",
    "\n",
    "## Finding Laptops Within a Budget\n",
    "\n",
    "We will now leverage a binary search algorithm to write a method that efficiently queries the dataset to find all laptops that fall within a given budget."
   ]
  },
  {
   "cell_type": "code",
   "execution_count": 10,
   "metadata": {},
   "outputs": [
    {
     "name": "stdout",
     "output_type": "stream",
     "text": [
      "917\n",
      "-1\n"
     ]
    }
   ],
   "source": [
    "class Inventory():\n",
    "    \n",
    "    def __init__(self, csv_filename):\n",
    "        with open('laptops.csv', mode='r') as file:\n",
    "            rows = list(csv.reader(file))\n",
    "            self.header = rows[0]\n",
    "            self.rows = rows[1:]\n",
    "            for row in self.rows:\n",
    "                row[-1] = int(row[-1])\n",
    "            self.id_to_row = {}\n",
    "            for row in self.rows:\n",
    "                self.id_to_row[row[0]] = row\n",
    "            self.prices = set()\n",
    "            for row in self.rows:\n",
    "                self.prices.add(row[-1])\n",
    "            # Sort the rows by laptop price.\n",
    "            self.rows_by_price = sorted(self.rows, key=lambda row_price: self.rows[-1])\n",
    "                \n",
    "    def get_laptop_from_id(self, laptop_id):\n",
    "        for row in self.rows:\n",
    "            if row[0] == laptop_id:\n",
    "                return row\n",
    "        return None\n",
    "    \n",
    "    def get_laptop_from_id_fast(self, laptop_id):\n",
    "        if laptop_id in self.id_to_row:\n",
    "            return self.id_to_row[laptop_id]\n",
    "        return None\n",
    "    \n",
    "    def check_promotion_dollars(self, dollars):\n",
    "        for row in self.rows:\n",
    "            if row[-1] == dollars:\n",
    "                return True\n",
    "        for row_1 in self.rows:\n",
    "            for row_2 in self.rows:\n",
    "                if row_1[-1] + row_2[-1] == dollars:\n",
    "                    return True\n",
    "        return False\n",
    "    \n",
    "    def check_promotion_dollars_fast(self, dollars):\n",
    "        if dollars in self.prices:\n",
    "            return True\n",
    "        for row in self.rows:\n",
    "            if dollars - row[-1] in self.prices:\n",
    "                return True\n",
    "        return False\n",
    "    \n",
    "    # A method to find the index of the first laptop that is more expensive that a given amount.\n",
    "    def find_first_laptop_more_expensive(self, target_price):\n",
    "        range_start = 0\n",
    "        range_end = len(self.rows_by_price) - 1\n",
    "        \n",
    "        while range_start < range_end:\n",
    "            range_middle = (range_start + range_end) // 2\n",
    "            row_price = self.rows_by_price[range_middle][-1]\n",
    "            if row_price <= target_price:\n",
    "                range_start = range_middle + 1\n",
    "            else:\n",
    "                range_end = range_middle\n",
    "        row_price = self.rows_by_price[range_start][-1]\n",
    "        if row_price > target_price:\n",
    "            return range_start\n",
    "        return -1\n",
    "\n",
    "        \n",
    "test = Inventory('laptops.csv')\n",
    "print(test.find_first_laptop_more_expensive(1000))\n",
    "print(test.find_first_laptop_more_expensive(10000))\n",
    "\n",
    "                    \n",
    "                \n",
    "                "
   ]
  }
 ],
 "metadata": {
  "kernelspec": {
   "display_name": "Python 3",
   "language": "python",
   "name": "python3"
  },
  "language_info": {
   "codemirror_mode": {
    "name": "ipython",
    "version": 3
   },
   "file_extension": ".py",
   "mimetype": "text/x-python",
   "name": "python",
   "nbconvert_exporter": "python",
   "pygments_lexer": "ipython3",
   "version": "3.8.8"
  }
 },
 "nbformat": 4,
 "nbformat_minor": 2
}
